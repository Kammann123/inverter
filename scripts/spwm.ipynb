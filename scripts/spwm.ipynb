{
 "cells": [
  {
   "cell_type": "code",
   "execution_count": 2,
   "id": "bae58714-0e6d-4234-b0e2-973b7cf6d850",
   "metadata": {},
   "outputs": [],
   "source": [
    "import matplotlib.pyplot as plt"
   ]
  },
  {
   "cell_type": "code",
   "execution_count": 3,
   "id": "449ab745-e2e7-4076-b9a0-71f7efcbd7e9",
   "metadata": {},
   "outputs": [],
   "source": [
    "import numpy as np"
   ]
  },
  {
   "cell_type": "code",
   "execution_count": 4,
   "id": "cbfb4aed-8cd3-4fb9-b8ec-85258b0fa07f",
   "metadata": {},
   "outputs": [],
   "source": [
    "f = 60\n",
    "mf = 33"
   ]
  },
  {
   "cell_type": "code",
   "execution_count": 5,
   "id": "1f1bf5c4-eb9b-4962-970c-3447ac55c7ac",
   "metadata": {},
   "outputs": [],
   "source": [
    "t = np.linspace(0, 1/f, mf)\n",
    "duty = 50 * np.sin(2 * np.pi * f * t) + 50"
   ]
  },
  {
   "cell_type": "code",
   "execution_count": 6,
   "id": "b2cf4ebd-c0dd-4a7e-ae55-870b522848f9",
   "metadata": {},
   "outputs": [
    {
     "data": {
      "text/plain": [
       "<StemContainer object of 3 artists>"
      ]
     },
     "execution_count": 6,
     "metadata": {},
     "output_type": "execute_result"
    },
    {
     "data": {
      "image/png": "[encoded data removed]",
      "text/plain": [
       "<Figure size 432x288 with 1 Axes>"
      ]
     },
     "metadata": {
      "needs_background": "light"
     },
     "output_type": "display_data"
    }
   ],
   "source": [
    "plt.stem(duty)"
   ]
  },
  {
   "cell_type": "code",
   "execution_count": 11,
   "id": "d2bd1fe9-28f2-425a-a4b3-b255e730e596",
   "metadata": {},
   "outputs": [
    {
     "name": "stdout",
     "output_type": "stream",
     "text": [
      "50.0,\n",
      "59.755,\n",
      "69.134,\n",
      "77.779,\n",
      "85.355,\n",
      "91.573,\n",
      "96.194,\n",
      "99.039,\n",
      "100.0,\n",
      "99.039,\n",
      "96.194,\n",
      "91.573,\n",
      "85.355,\n",
      "77.779,\n",
      "69.134,\n",
      "59.755,\n",
      "50.0,\n",
      "40.245,\n",
      "30.866,\n",
      "22.221,\n",
      "14.645,\n",
      "8.427,\n",
      "3.806,\n",
      "0.961,\n",
      "0.0,\n",
      "0.961,\n",
      "3.806,\n",
      "8.427,\n",
      "14.645,\n",
      "22.221,\n",
      "30.866,\n",
      "40.245,\n",
      "50.0,\n"
     ]
    }
   ],
   "source": [
    "for d in list(duty):\n",
    "    print(f'{np.round(float(d), 3)},')"
   ]
  },
  {
   "cell_type": "code",
   "execution_count": 10,
   "id": "2997f849-ea80-4f6e-a29d-bbebfadce88f",
   "metadata": {},
   "outputs": [
    {
     "data": {
      "text/plain": [
       "(33,)"
      ]
     },
     "execution_count": 10,
     "metadata": {},
     "output_type": "execute_result"
    }
   ],
   "source": [
    "duty.shape"
   ]
  }
 ],
 "metadata": {
  "kernelspec": {
   "display_name": "Python 3 (ipykernel)",
   "language": "python",
   "name": "python3"
  },
  "language_info": {
   "codemirror_mode": {
    "name": "ipython",
    "version": 3
   },
   "file_extension": ".py",
   "mimetype": "text/x-python",
   "name": "python",
   "nbconvert_exporter": "python",
   "pygments_lexer": "ipython3",
   "version": "3.10.0"
  }
 },
 "nbformat": 4,
 "nbformat_minor": 5
}
